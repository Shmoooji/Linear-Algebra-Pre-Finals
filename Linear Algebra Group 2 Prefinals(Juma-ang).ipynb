{
 "cells": [
  {
   "cell_type": "markdown",
   "id": "c63a4684-7250-4c89-970a-941de0d7f807",
   "metadata": {},
   "source": [
    "# Linear Algebra Group 2 Pre finals (Juma-ang)"
   ]
  },
  {
   "cell_type": "markdown",
   "id": "608c6e18-647f-4c83-ad2d-1f2e3963fa88",
   "metadata": {},
   "source": [
    "## Principal Component Analysis"
   ]
  },
  {
   "cell_type": "code",
   "execution_count": 53,
   "id": "93a1b407-464c-4011-b6f3-9497eaff861e",
   "metadata": {},
   "outputs": [],
   "source": [
    "import numpy as np\n",
    "import pandas as pd\n",
    "\n",
    "\n",
    "import matplotlib.pyplot as plt\n",
    "import pylab as plt\n",
    "import seaborn as sb\n",
    "from IPython.display import Image\n",
    "from IPython.core.display import HTML\n",
    "from pylab import rcParams\n",
    "\n",
    "import sklearn.datasets as datasets\n",
    "import sklearn.decomposition as decomposition\n",
    "from sklearn import decomposition\n",
    "from sklearn.decomposition import PCA\n",
    "from sklearn import datasets\n"
   ]
  },
  {
   "cell_type": "code",
   "execution_count": 31,
   "id": "75b73e59-c2e3-4892-97b5-fa00119dbdc9",
   "metadata": {},
   "outputs": [],
   "source": [
    "%matplotlib inline\n",
    "rcParams['figure.figsize'] = 5,4\n",
    "sb.set_style('whitegrid')"
   ]
  },
  {
   "cell_type": "markdown",
   "id": "2aa68872-1586-495a-9c26-8309c7a16183",
   "metadata": {},
   "source": [
    "## PCA on the Visegard Group Companies Dataset"
   ]
  },
  {
   "cell_type": "code",
   "execution_count": 33,
   "id": "bc8ab7e1-604e-4ae5-bda1-8a3baf8494ed",
   "metadata": {},
   "outputs": [
    {
     "data": {
      "text/plain": [
       "array([[5.1, 3.5, 1.4, 0.2],\n",
       "       [4.9, 3. , 1.4, 0.2],\n",
       "       [4.7, 3.2, 1.3, 0.2],\n",
       "       [4.6, 3.1, 1.5, 0.2],\n",
       "       [5. , 3.6, 1.4, 0.2],\n",
       "       [5.4, 3.9, 1.7, 0.4],\n",
       "       [4.6, 3.4, 1.4, 0.3],\n",
       "       [5. , 3.4, 1.5, 0.2],\n",
       "       [4.4, 2.9, 1.4, 0.2],\n",
       "       [4.9, 3.1, 1.5, 0.1]])"
      ]
     },
     "execution_count": 33,
     "metadata": {},
     "output_type": "execute_result"
    }
   ],
   "source": [
    "iris = datasets.load_iris()\n",
    "\n",
    "X = iris.data\n",
    "\n",
    "vairable_names = iris.feature_names\n",
    "\n",
    "X[0:10,]"
   ]
  },
  {
   "cell_type": "code",
   "execution_count": 35,
   "id": "627a8f82-f4bf-481a-b6ed-68ca3b0bb17c",
   "metadata": {},
   "outputs": [
    {
     "data": {
      "text/plain": [
       "array([0.92461872, 0.05306648, 0.01710261, 0.00521218])"
      ]
     },
     "execution_count": 35,
     "metadata": {},
     "output_type": "execute_result"
    }
   ],
   "source": [
    "pca = decomposition.PCA()\n",
    "iris_pca = pca.fit_transform(X)\n",
    "pca.explained_variance_ratio_"
   ]
  },
  {
   "cell_type": "code",
   "execution_count": 37,
   "id": "06fa4cea-87dd-47dc-b861-028ff25f55af",
   "metadata": {},
   "outputs": [
    {
     "data": {
      "text/plain": [
       "1.0"
      ]
     },
     "execution_count": 37,
     "metadata": {},
     "output_type": "execute_result"
    }
   ],
   "source": [
    "pca.explained_variance_ratio_.sum()"
   ]
  },
  {
   "cell_type": "code",
   "execution_count": 40,
   "id": "9402fa4e-9f47-4c2b-9279-528a98474a62",
   "metadata": {},
   "outputs": [
    {
     "data": {
      "text/html": [
       "<div>\n",
       "<style scoped>\n",
       "    .dataframe tbody tr th:only-of-type {\n",
       "        vertical-align: middle;\n",
       "    }\n",
       "\n",
       "    .dataframe tbody tr th {\n",
       "        vertical-align: top;\n",
       "    }\n",
       "\n",
       "    .dataframe thead th {\n",
       "        text-align: right;\n",
       "    }\n",
       "</style>\n",
       "<table border=\"1\" class=\"dataframe\">\n",
       "  <thead>\n",
       "    <tr style=\"text-align: right;\">\n",
       "      <th></th>\n",
       "      <th>0</th>\n",
       "      <th>1</th>\n",
       "      <th>2</th>\n",
       "      <th>3</th>\n",
       "    </tr>\n",
       "  </thead>\n",
       "  <tbody>\n",
       "    <tr>\n",
       "      <th>0</th>\n",
       "      <td>0.361387</td>\n",
       "      <td>-0.084523</td>\n",
       "      <td>0.856671</td>\n",
       "      <td>0.358289</td>\n",
       "    </tr>\n",
       "    <tr>\n",
       "      <th>1</th>\n",
       "      <td>0.656589</td>\n",
       "      <td>0.730161</td>\n",
       "      <td>-0.173373</td>\n",
       "      <td>-0.075481</td>\n",
       "    </tr>\n",
       "    <tr>\n",
       "      <th>2</th>\n",
       "      <td>-0.582030</td>\n",
       "      <td>0.597911</td>\n",
       "      <td>0.076236</td>\n",
       "      <td>0.545831</td>\n",
       "    </tr>\n",
       "    <tr>\n",
       "      <th>3</th>\n",
       "      <td>-0.315487</td>\n",
       "      <td>0.319723</td>\n",
       "      <td>0.479839</td>\n",
       "      <td>-0.753657</td>\n",
       "    </tr>\n",
       "  </tbody>\n",
       "</table>\n",
       "</div>"
      ],
      "text/plain": [
       "          0         1         2         3\n",
       "0  0.361387 -0.084523  0.856671  0.358289\n",
       "1  0.656589  0.730161 -0.173373 -0.075481\n",
       "2 -0.582030  0.597911  0.076236  0.545831\n",
       "3 -0.315487  0.319723  0.479839 -0.753657"
      ]
     },
     "execution_count": 40,
     "metadata": {},
     "output_type": "execute_result"
    }
   ],
   "source": [
    "comps = pd.DataFrame(pca.components_)\n",
    "comps"
   ]
  },
  {
   "cell_type": "code",
   "execution_count": 41,
   "id": "36e415bd-d9f7-4de6-b6a9-c97e2ec456e8",
   "metadata": {},
   "outputs": [
    {
     "data": {
      "text/plain": [
       "<Axes: >"
      ]
     },
     "execution_count": 41,
     "metadata": {},
     "output_type": "execute_result"
    },
    {
     "data": {
      "image/png": "[encoded data removed]",
      "text/plain": [
       "<Figure size 500x400 with 2 Axes>"
      ]
     },
     "metadata": {},
     "output_type": "display_data"
    }
   ],
   "source": [
    "sb.heatmap(comps)"
   ]
  },
  {
   "cell_type": "code",
   "execution_count": 71,
   "id": "15ce0ea9-9528-4ac1-8244-1a4e6efbd238",
   "metadata": {},
   "outputs": [
    {
     "ename": "FileNotFoundError",
     "evalue": "[Errno 2] No such file or directory: '2017_Q1.arff'",
     "output_type": "error",
     "traceback": [
      "\u001b[1;31m---------------------------------------------------------------------------\u001b[0m",
      "\u001b[1;31mFileNotFoundError\u001b[0m                         Traceback (most recent call last)",
      "Cell \u001b[1;32mIn[71], line 4\u001b[0m\n\u001b[0;32m      1\u001b[0m \u001b[38;5;28;01mimport\u001b[39;00m \u001b[38;5;21;01mnumpy\u001b[39;00m \u001b[38;5;28;01mas\u001b[39;00m \u001b[38;5;21;01mnp\u001b[39;00m\n\u001b[0;32m      2\u001b[0m \u001b[38;5;28;01mimport\u001b[39;00m \u001b[38;5;21;01marff\u001b[39;00m\n\u001b[1;32m----> 4\u001b[0m data \u001b[38;5;241m=\u001b[39m arff\u001b[38;5;241m.\u001b[39mload(\u001b[38;5;28;43mopen\u001b[39;49m\u001b[43m(\u001b[49m\u001b[38;5;124;43m\"\u001b[39;49m\u001b[38;5;124;43m2017_Q1.arff\u001b[39;49m\u001b[38;5;124;43m\"\u001b[39;49m\u001b[43m,\u001b[49m\u001b[43m \u001b[49m\u001b[38;5;124;43m\"\u001b[39;49m\u001b[38;5;124;43mrb\u001b[39;49m\u001b[38;5;124;43m\"\u001b[39;49m\u001b[43m)\u001b[49m)\n\u001b[0;32m      6\u001b[0m matrix \u001b[38;5;241m=\u001b[39m data[\u001b[38;5;124m\"\u001b[39m\u001b[38;5;124mdata\u001b[39m\u001b[38;5;124m\"\u001b[39m]\n\u001b[0;32m      8\u001b[0m response \u001b[38;5;241m=\u001b[39m urllib\u001b[38;5;241m.\u001b[39mrequest\u001b[38;5;241m.\u001b[39murlopen(url)\n",
      "File \u001b[1;32mC:\\Python\\Lib\\site-packages\\IPython\\core\\interactiveshell.py:310\u001b[0m, in \u001b[0;36m_modified_open\u001b[1;34m(file, *args, **kwargs)\u001b[0m\n\u001b[0;32m    303\u001b[0m \u001b[38;5;28;01mif\u001b[39;00m file \u001b[38;5;129;01min\u001b[39;00m {\u001b[38;5;241m0\u001b[39m, \u001b[38;5;241m1\u001b[39m, \u001b[38;5;241m2\u001b[39m}:\n\u001b[0;32m    304\u001b[0m     \u001b[38;5;28;01mraise\u001b[39;00m \u001b[38;5;167;01mValueError\u001b[39;00m(\n\u001b[0;32m    305\u001b[0m         \u001b[38;5;124mf\u001b[39m\u001b[38;5;124m\"\u001b[39m\u001b[38;5;124mIPython won\u001b[39m\u001b[38;5;124m'\u001b[39m\u001b[38;5;124mt let you open fd=\u001b[39m\u001b[38;5;132;01m{\u001b[39;00mfile\u001b[38;5;132;01m}\u001b[39;00m\u001b[38;5;124m by default \u001b[39m\u001b[38;5;124m\"\u001b[39m\n\u001b[0;32m    306\u001b[0m         \u001b[38;5;124m\"\u001b[39m\u001b[38;5;124mas it is likely to crash IPython. If you know what you are doing, \u001b[39m\u001b[38;5;124m\"\u001b[39m\n\u001b[0;32m    307\u001b[0m         \u001b[38;5;124m\"\u001b[39m\u001b[38;5;124myou can use builtins\u001b[39m\u001b[38;5;124m'\u001b[39m\u001b[38;5;124m open.\u001b[39m\u001b[38;5;124m\"\u001b[39m\n\u001b[0;32m    308\u001b[0m     )\n\u001b[1;32m--> 310\u001b[0m \u001b[38;5;28;01mreturn\u001b[39;00m \u001b[43mio_open\u001b[49m\u001b[43m(\u001b[49m\u001b[43mfile\u001b[49m\u001b[43m,\u001b[49m\u001b[43m \u001b[49m\u001b[38;5;241;43m*\u001b[39;49m\u001b[43margs\u001b[49m\u001b[43m,\u001b[49m\u001b[43m \u001b[49m\u001b[38;5;241;43m*\u001b[39;49m\u001b[38;5;241;43m*\u001b[39;49m\u001b[43mkwargs\u001b[49m\u001b[43m)\u001b[49m\n",
      "\u001b[1;31mFileNotFoundError\u001b[0m: [Errno 2] No such file or directory: '2017_Q1.arff'"
     ]
    }
   ],
   "source": [
    "import numpy as np\n",
    "import arff\n",
    "\n",
    "data = arff.load(open(\"2017_Q1.arff\", \"rb\"))\n",
    "\n",
    "matrix = data[\"data\"]\n",
    "\n",
    "response = urllib.request.urlopen(url)\n",
    "data = response.read().decode(\"utf-8\")\n",
    "\n",
    "def svd(matrix):\n",
    "    num_rows, num_cols = len(matrix), len(matrix[0])\n",
    "\n",
    "    ata = dot_product(transpose(matrix), matrix)\n",
    "    aat = dot_product(matrix, transpose(matrix))\n",
    "\n",
    "    print(\"A^T * A:\")\n",
    "    print(ata)\n",
    "    print(\"\\nA * A^T:\")\n",
    "    print(aat)\n",
    "\n",
    "    eigenvalues_ata, eigenvectors_ata = np.linalg.eig(ata)\n",
    "\n",
    "    sorted_indices = np.argsort(eigenvalues_ata)[::-1]\n",
    "    eigenvalues_ata = eigenvalues_ata[sorted_indices]\n",
    "    eigenvectors_ata = eigenvectors_ata[:, sorted_indices]\n",
    "\n",
    "    singular_values = np.sqrt(eigenvalues_ata)\n",
    "\n",
    "    v_t = eigenvectors_ata\n",
    "\n",
    "    u = []\n",
    "    for i in range(num_rows):\n",
    "        u_i = dot_product(matrix, [v_t[j][i] / singular_values[j] for j in range(num_cols)])\n",
    "        u.append(u_i)\n",
    "    u = np.array(u).T\n",
    "\n",
    "    print(\"\\nU:\")\n",
    "    print(u)\n",
    "    print(\"\\nS:\")\n",
    "    print(np.diag(singular_values))\n",
    "    print(\"\\nV^T:\")\n",
    "    print(v_t)\n",
    "\n",
    "    matrix = []\n",
    "    for line in data.splitlines():\n",
    "        matrix.append([float(x) for x in line.split()])\n",
    "    svd(matrix)"
   ]
  },
  {
   "cell_type": "code",
   "execution_count": 72,
   "id": "252bf160-77dd-44bf-a63b-4f5a0b75bb03",
   "metadata": {},
   "outputs": [
    {
     "ename": "TypeError",
     "evalue": "unsupported operand type(s) for +: 'int' and 'str'",
     "output_type": "error",
     "traceback": [
      "\u001b[1;31m---------------------------------------------------------------------------\u001b[0m",
      "\u001b[1;31mTypeError\u001b[0m                                 Traceback (most recent call last)",
      "Cell \u001b[1;32mIn[72], line 51\u001b[0m\n\u001b[0;32m     48\u001b[0m     \u001b[38;5;28;01mreturn\u001b[39;00m pca_result, eigenvalues, principal_components, mean\n\u001b[0;32m     49\u001b[0m num_components \u001b[38;5;241m=\u001b[39m \u001b[38;5;241m8\u001b[39m\n\u001b[1;32m---> 51\u001b[0m pca_result, _, _, _ \u001b[38;5;241m=\u001b[39m \u001b[43mpca\u001b[49m\u001b[43m(\u001b[49m\u001b[43mdata\u001b[49m\u001b[43m,\u001b[49m\u001b[43m \u001b[49m\u001b[43mnum_components\u001b[49m\u001b[43m)\u001b[49m\n\u001b[0;32m     53\u001b[0m \u001b[38;5;28mprint\u001b[39m(\u001b[38;5;124m\"\u001b[39m\u001b[38;5;124mPrincipal Component Analysis:\u001b[39m\u001b[38;5;124m\"\u001b[39m)\n\u001b[0;32m     54\u001b[0m \u001b[38;5;28mprint\u001b[39m(pca_result)\n",
      "Cell \u001b[1;32mIn[72], line 34\u001b[0m, in \u001b[0;36mpca\u001b[1;34m(X, num_components)\u001b[0m\n\u001b[0;32m     33\u001b[0m \u001b[38;5;28;01mdef\u001b[39;00m \u001b[38;5;21mpca\u001b[39m(X, num_components):\n\u001b[1;32m---> 34\u001b[0m     centered_data, mean \u001b[38;5;241m=\u001b[39m \u001b[43mcenter_data\u001b[49m\u001b[43m(\u001b[49m\u001b[43mX\u001b[49m\u001b[43m)\u001b[49m\n\u001b[0;32m     35\u001b[0m     transposed_data \u001b[38;5;241m=\u001b[39m transpose(centered_data)\n\u001b[0;32m     36\u001b[0m     covariance_matrix \u001b[38;5;241m=\u001b[39m dot_product(transposed_data, centered_data)\n",
      "Cell \u001b[1;32mIn[72], line 29\u001b[0m, in \u001b[0;36mcenter_data\u001b[1;34m(X)\u001b[0m\n\u001b[0;32m     27\u001b[0m \u001b[38;5;28;01mdef\u001b[39;00m \u001b[38;5;21mcenter_data\u001b[39m(X):\n\u001b[0;32m     28\u001b[0m     num_rows, num_cols \u001b[38;5;241m=\u001b[39m \u001b[38;5;28mlen\u001b[39m(X), \u001b[38;5;28mlen\u001b[39m(X[\u001b[38;5;241m0\u001b[39m])\n\u001b[1;32m---> 29\u001b[0m     mean \u001b[38;5;241m=\u001b[39m \u001b[43m[\u001b[49m\u001b[38;5;28;43msum\u001b[39;49m\u001b[43m(\u001b[49m\u001b[43mX\u001b[49m\u001b[43m[\u001b[49m\u001b[43mi\u001b[49m\u001b[43m]\u001b[49m\u001b[43m[\u001b[49m\u001b[43mj\u001b[49m\u001b[43m]\u001b[49m\u001b[43m \u001b[49m\u001b[38;5;28;43;01mfor\u001b[39;49;00m\u001b[43m \u001b[49m\u001b[43mi\u001b[49m\u001b[43m \u001b[49m\u001b[38;5;129;43;01min\u001b[39;49;00m\u001b[43m \u001b[49m\u001b[38;5;28;43mrange\u001b[39;49m\u001b[43m(\u001b[49m\u001b[43mnum_rows\u001b[49m\u001b[43m)\u001b[49m\u001b[43m)\u001b[49m\u001b[43m \u001b[49m\u001b[38;5;241;43m/\u001b[39;49m\u001b[43m \u001b[49m\u001b[43mnum_rows\u001b[49m\u001b[43m \u001b[49m\u001b[38;5;28;43;01mfor\u001b[39;49;00m\u001b[43m \u001b[49m\u001b[43mj\u001b[49m\u001b[43m \u001b[49m\u001b[38;5;129;43;01min\u001b[39;49;00m\u001b[43m \u001b[49m\u001b[38;5;28;43mrange\u001b[39;49m\u001b[43m(\u001b[49m\u001b[43mnum_cols\u001b[49m\u001b[43m)\u001b[49m\u001b[43m]\u001b[49m\n\u001b[0;32m     30\u001b[0m     centered_data \u001b[38;5;241m=\u001b[39m matrix_subtract(X, [mean])\n\u001b[0;32m     31\u001b[0m     \u001b[38;5;28;01mreturn\u001b[39;00m centered_data, mean\n",
      "Cell \u001b[1;32mIn[72], line 29\u001b[0m, in \u001b[0;36m<listcomp>\u001b[1;34m(.0)\u001b[0m\n\u001b[0;32m     27\u001b[0m \u001b[38;5;28;01mdef\u001b[39;00m \u001b[38;5;21mcenter_data\u001b[39m(X):\n\u001b[0;32m     28\u001b[0m     num_rows, num_cols \u001b[38;5;241m=\u001b[39m \u001b[38;5;28mlen\u001b[39m(X), \u001b[38;5;28mlen\u001b[39m(X[\u001b[38;5;241m0\u001b[39m])\n\u001b[1;32m---> 29\u001b[0m     mean \u001b[38;5;241m=\u001b[39m [\u001b[38;5;28;43msum\u001b[39;49m\u001b[43m(\u001b[49m\u001b[43mX\u001b[49m\u001b[43m[\u001b[49m\u001b[43mi\u001b[49m\u001b[43m]\u001b[49m\u001b[43m[\u001b[49m\u001b[43mj\u001b[49m\u001b[43m]\u001b[49m\u001b[43m \u001b[49m\u001b[38;5;28;43;01mfor\u001b[39;49;00m\u001b[43m \u001b[49m\u001b[43mi\u001b[49m\u001b[43m \u001b[49m\u001b[38;5;129;43;01min\u001b[39;49;00m\u001b[43m \u001b[49m\u001b[38;5;28;43mrange\u001b[39;49m\u001b[43m(\u001b[49m\u001b[43mnum_rows\u001b[49m\u001b[43m)\u001b[49m\u001b[43m)\u001b[49m \u001b[38;5;241m/\u001b[39m num_rows \u001b[38;5;28;01mfor\u001b[39;00m j \u001b[38;5;129;01min\u001b[39;00m \u001b[38;5;28mrange\u001b[39m(num_cols)]\n\u001b[0;32m     30\u001b[0m     centered_data \u001b[38;5;241m=\u001b[39m matrix_subtract(X, [mean])\n\u001b[0;32m     31\u001b[0m     \u001b[38;5;28;01mreturn\u001b[39;00m centered_data, mean\n",
      "\u001b[1;31mTypeError\u001b[0m: unsupported operand type(s) for +: 'int' and 'str'"
     ]
    }
   ],
   "source": [
    "import numpy as np\n",
    "def transpose(matrix):\n",
    "    return [[row[i] for row in matrix] for i in range(len(matrix[0]))]\n",
    "\n",
    "def dot_product(matrix1, matrix2):\n",
    "    result_matrix = [\n",
    "    [\n",
    "        sum(a * b for a, b in zip(row, col))\n",
    "        for col in zip(*matrix2)\n",
    "    ]\n",
    "    for row in matrix1\n",
    "]\n",
    "    return result_matrix\n",
    "\n",
    "def scalar_multiply(matrix, scalar):\n",
    "   result_matrix = [[val * scalar for val in row] for row in matrix]\n",
    "   return result_matrix\n",
    "\n",
    "def matrix_subtract(matrix1, matrix2):\n",
    "    result_matrix = [\n",
    "    [a - b for a, b in zip(row1, row2)]\n",
    "    for row1, row2 in zip(matrix1, matrix2)\n",
    "]\n",
    "    \n",
    "    return result_matrix\n",
    "\n",
    "def center_data(X):\n",
    "    num_rows, num_cols = len(X), len(X[0])\n",
    "    mean = [sum(X[i][j] for i in range(num_rows)) / num_rows for j in range(num_cols)]\n",
    "    centered_data = matrix_subtract(X, [mean])\n",
    "    return centered_data, mean\n",
    "\n",
    "def pca(X, num_components):\n",
    "    centered_data, mean = center_data(X)\n",
    "    transposed_data = transpose(centered_data)\n",
    "    covariance_matrix = dot_product(transposed_data, centered_data)\n",
    "    covariance_matrix = scalar_multiply(covariance_matrix, 1 / (len(centered_data[0]) - 1))\n",
    "\n",
    "    eigenvalues, eigenvectors = np.linalg.eig(covariance_matrix)\n",
    "\n",
    "    sorted_indices = sorted(range(len(eigenvalues)), key=lambda k: eigenvalues[k], reverse=True)\n",
    "    eigenvalues = [eigenvalues[i] for i in sorted_indices]\n",
    "    eigenvectors = [eigenvectors[:, i] for i in sorted_indices]\n",
    "    \n",
    "    principal_components = eigenvectors[:num_components]\n",
    "    pca_result = dot_product(centered_data, transpose(principal_components))\n",
    "\n",
    "    return pca_result, eigenvalues, principal_components, mean\n",
    "num_components = 8\n",
    "\n",
    "pca_result, _, _, _ = pca(data, num_components)\n",
    "\n",
    "print(\"Principal Component Analysis:\")\n",
    "print(pca_result)"
   ]
  },
  {
   "cell_type": "raw",
   "id": "d0481c95-e988-4ceb-9119-1269e8ff9d63",
   "metadata": {},
   "source": [
    "as I did this Pre-Finals assessment I was able to have some realizations:\n",
    "\n",
    "1). With the help of the Libraries and modules it was able to display both SVD and PCA appropriately. Writing from scratch, it's actually hard and a hassle.\n",
    "\n",
    "2). I just realized that the datasets i used was from iris and the other from the downloaded Arff and still it didn't work\n",
    "\n",
    "3.) Lastly, The SVD could run however it won't print the Matrix In which I thought it's already good to go :). Had a last minute realization and completely broke the code.\n",
    "\n",
    "In Conclusion, Don't be too complacent and double check. Also Manage Time properly. :) \n",
    "\n",
    "\n",
    "\n"
   ]
  }
 ],
 "metadata": {
  "kernelspec": {
   "display_name": "Python 3 (ipykernel)",
   "language": "python",
   "name": "python3"
  },
  "language_info": {
   "codemirror_mode": {
    "name": "ipython",
    "version": 3
   },
   "file_extension": ".py",
   "mimetype": "text/x-python",
   "name": "python",
   "nbconvert_exporter": "python",
   "pygments_lexer": "ipython3",
   "version": "3.11.5"
  }
 },
 "nbformat": 4,
 "nbformat_minor": 5
}
